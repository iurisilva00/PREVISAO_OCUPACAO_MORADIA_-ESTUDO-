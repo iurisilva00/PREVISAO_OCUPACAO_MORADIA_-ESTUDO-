{
 "cells": [
  {
   "cell_type": "markdown",
   "metadata": {},
   "source": [
    "# <font color='blue'>Machine Learning - Regressão Linear</font>\n",
    "\n"
   ]
  },
  {
   "cell_type": "markdown",
   "metadata": {},
   "source": [
    "## Definindo o Problema de Negócio\n",
    "\n",
    "Nosso objetivo é construir um modelo de Machine Learning que seja capaz de fazer previsões sobre a taxa média de ocupação de casas na região de Boston, EUA, por proprietários. A variável a ser prevista é um valor numérico que representa a mediana da taxa de ocupação das casas em Boston. Para cada casa temos diversas variáveis explanatórias. Sendo assim, podemos resolver este problema empregando Regressão Linear Simples ou Múltipla."
   ]
  },
  {
   "cell_type": "markdown",
   "metadata": {},
   "source": [
    "## Definindo o Dataset \n",
    "\n",
    "Usaremos o Boston Housing Dataset, que é um conjunto de dados que tem a taxa média de ocupação das casas, juntamente com outras 13 variáveis que podem estar relacionadas aos preços das casas. Esses são os fatores como condições socioeconômicas, condições ambientais, instalações educacionais e alguns outros fatores semelhantes. Existem 506 observações nos dados para 14 variáveis. Existem 12 variáveis numéricas em nosso conjunto de dados e 1 variável categórica. O objetivo deste projeto é construir um modelo de regressão linear para estimar a taxa média de ocupação das casas pelos proprietários em Boston."
   ]
  },
  {
   "cell_type": "markdown",
   "metadata": {},
   "source": [
    "Fonte de Dados do Dataset: https://archive.ics.uci.edu/ml/machine-learning-databases/housing/"
   ]
  },
  {
   "cell_type": "markdown",
   "metadata": {},
   "source": [
    "<p> Descrição dos campos do dataset<br>\n",
    "\n",
    "1. CRIM: taxa de criminalidade per capita por cidade\n",
    "2. ZN: proporção de terrenos residenciais zoneados para lotes acima de 25.000 metros quadrados\n",
    "3. INDUS: proporção de acres de negócios não varejistas por cidade\n",
    "4. CHAS: Variável dummy Charles River (= 1 se o trato limita o rio; 0 caso contrário)\n",
    "5. NOX: concentração de óxidos nítricos (partes por 10 milhões)\n",
    "6. RM: número médio de quartos por habitação\n",
    "7. AGE: proporção de unidades ocupadas pelos proprietários construídas antes de 1940\n",
    "8. DIS: distâncias ponderadas para cinco centros de emprego de Boston\n",
    "9. RAD: índice de acessibilidade às rodovias radiais\n",
    "10. TAX: taxa de imposto de propriedade de valor total por 10.000\n",
    "11. PTRATIO: relação aluno-professor por cidade\n",
    "12. B: 1000(Bk - 0,63)^2 onde Bk é a proporção de negros por cidade\n",
    "13. LSTAT: % status mais baixo da população\n",
    "14. TARGET: Valor médio das casas ocupadas pelos proprietários em $ 1.000"
   ]
  },
  {
   "cell_type": "code",
   "execution_count": 3,
   "metadata": {},
   "outputs": [],
   "source": [
    "# Carregando Bibliotecas Python\n",
    "import numpy as np\n",
    "import pandas as pd\n",
    "import matplotlib.pyplot as plt\n",
    "import matplotlib as mpl\n",
    "import warnings\n",
    "warnings.filterwarnings(\"ignore\", category=DeprecationWarning)\n",
    "%matplotlib inline "
   ]
  },
  {
   "cell_type": "code",
   "execution_count": 4,
   "metadata": {},
   "outputs": [],
   "source": [
    "# Carregando o Dataset Boston Houses\n",
    "from sklearn.datasets import load_boston\n",
    "boston = load_boston() "
   ]
  },
  {
   "cell_type": "markdown",
   "metadata": {},
   "source": [
    "## Análise Exploratória"
   ]
  },
  {
   "cell_type": "code",
   "execution_count": 5,
   "metadata": {},
   "outputs": [],
   "source": [
    "# Convertendo o dataset em um dataframe com Pandas\n",
    "dataset = pd.DataFrame(boston.data, columns = boston.feature_names)\n",
    "dataset['target'] = boston.target"
   ]
  },
  {
   "cell_type": "code",
   "execution_count": 6,
   "metadata": {},
   "outputs": [
    {
     "data": {
      "text/html": [
       "<div>\n",
       "<style scoped>\n",
       "    .dataframe tbody tr th:only-of-type {\n",
       "        vertical-align: middle;\n",
       "    }\n",
       "\n",
       "    .dataframe tbody tr th {\n",
       "        vertical-align: top;\n",
       "    }\n",
       "\n",
       "    .dataframe thead th {\n",
       "        text-align: right;\n",
       "    }\n",
       "</style>\n",
       "<table border=\"1\" class=\"dataframe\">\n",
       "  <thead>\n",
       "    <tr style=\"text-align: right;\">\n",
       "      <th></th>\n",
       "      <th>CRIM</th>\n",
       "      <th>ZN</th>\n",
       "      <th>INDUS</th>\n",
       "      <th>CHAS</th>\n",
       "      <th>NOX</th>\n",
       "      <th>RM</th>\n",
       "      <th>AGE</th>\n",
       "      <th>DIS</th>\n",
       "      <th>RAD</th>\n",
       "      <th>TAX</th>\n",
       "      <th>PTRATIO</th>\n",
       "      <th>B</th>\n",
       "      <th>LSTAT</th>\n",
       "      <th>target</th>\n",
       "    </tr>\n",
       "  </thead>\n",
       "  <tbody>\n",
       "    <tr>\n",
       "      <th>0</th>\n",
       "      <td>0.00632</td>\n",
       "      <td>18.0</td>\n",
       "      <td>2.31</td>\n",
       "      <td>0.0</td>\n",
       "      <td>0.538</td>\n",
       "      <td>6.575</td>\n",
       "      <td>65.2</td>\n",
       "      <td>4.0900</td>\n",
       "      <td>1.0</td>\n",
       "      <td>296.0</td>\n",
       "      <td>15.3</td>\n",
       "      <td>396.90</td>\n",
       "      <td>4.98</td>\n",
       "      <td>24.0</td>\n",
       "    </tr>\n",
       "    <tr>\n",
       "      <th>1</th>\n",
       "      <td>0.02731</td>\n",
       "      <td>0.0</td>\n",
       "      <td>7.07</td>\n",
       "      <td>0.0</td>\n",
       "      <td>0.469</td>\n",
       "      <td>6.421</td>\n",
       "      <td>78.9</td>\n",
       "      <td>4.9671</td>\n",
       "      <td>2.0</td>\n",
       "      <td>242.0</td>\n",
       "      <td>17.8</td>\n",
       "      <td>396.90</td>\n",
       "      <td>9.14</td>\n",
       "      <td>21.6</td>\n",
       "    </tr>\n",
       "    <tr>\n",
       "      <th>2</th>\n",
       "      <td>0.02729</td>\n",
       "      <td>0.0</td>\n",
       "      <td>7.07</td>\n",
       "      <td>0.0</td>\n",
       "      <td>0.469</td>\n",
       "      <td>7.185</td>\n",
       "      <td>61.1</td>\n",
       "      <td>4.9671</td>\n",
       "      <td>2.0</td>\n",
       "      <td>242.0</td>\n",
       "      <td>17.8</td>\n",
       "      <td>392.83</td>\n",
       "      <td>4.03</td>\n",
       "      <td>34.7</td>\n",
       "    </tr>\n",
       "    <tr>\n",
       "      <th>3</th>\n",
       "      <td>0.03237</td>\n",
       "      <td>0.0</td>\n",
       "      <td>2.18</td>\n",
       "      <td>0.0</td>\n",
       "      <td>0.458</td>\n",
       "      <td>6.998</td>\n",
       "      <td>45.8</td>\n",
       "      <td>6.0622</td>\n",
       "      <td>3.0</td>\n",
       "      <td>222.0</td>\n",
       "      <td>18.7</td>\n",
       "      <td>394.63</td>\n",
       "      <td>2.94</td>\n",
       "      <td>33.4</td>\n",
       "    </tr>\n",
       "    <tr>\n",
       "      <th>4</th>\n",
       "      <td>0.06905</td>\n",
       "      <td>0.0</td>\n",
       "      <td>2.18</td>\n",
       "      <td>0.0</td>\n",
       "      <td>0.458</td>\n",
       "      <td>7.147</td>\n",
       "      <td>54.2</td>\n",
       "      <td>6.0622</td>\n",
       "      <td>3.0</td>\n",
       "      <td>222.0</td>\n",
       "      <td>18.7</td>\n",
       "      <td>396.90</td>\n",
       "      <td>5.33</td>\n",
       "      <td>36.2</td>\n",
       "    </tr>\n",
       "  </tbody>\n",
       "</table>\n",
       "</div>"
      ],
      "text/plain": [
       "      CRIM    ZN  INDUS  CHAS    NOX     RM   AGE     DIS  RAD    TAX  \\\n",
       "0  0.00632  18.0   2.31   0.0  0.538  6.575  65.2  4.0900  1.0  296.0   \n",
       "1  0.02731   0.0   7.07   0.0  0.469  6.421  78.9  4.9671  2.0  242.0   \n",
       "2  0.02729   0.0   7.07   0.0  0.469  7.185  61.1  4.9671  2.0  242.0   \n",
       "3  0.03237   0.0   2.18   0.0  0.458  6.998  45.8  6.0622  3.0  222.0   \n",
       "4  0.06905   0.0   2.18   0.0  0.458  7.147  54.2  6.0622  3.0  222.0   \n",
       "\n",
       "   PTRATIO       B  LSTAT  target  \n",
       "0     15.3  396.90   4.98    24.0  \n",
       "1     17.8  396.90   9.14    21.6  \n",
       "2     17.8  392.83   4.03    34.7  \n",
       "3     18.7  394.63   2.94    33.4  \n",
       "4     18.7  396.90   5.33    36.2  "
      ]
     },
     "execution_count": 6,
     "metadata": {},
     "output_type": "execute_result"
    }
   ],
   "source": [
    "dataset.head(5)"
   ]
  },
  {
   "cell_type": "code",
   "execution_count": 7,
   "metadata": {},
   "outputs": [],
   "source": [
    "# Calculando a média da variável de resposta\n",
    "valor_medio_esperado_na_previsao = dataset['target'].mean()"
   ]
  },
  {
   "cell_type": "code",
   "execution_count": 8,
   "metadata": {},
   "outputs": [
    {
     "data": {
      "text/plain": [
       "22.532806324110698"
      ]
     },
     "execution_count": 8,
     "metadata": {},
     "output_type": "execute_result"
    }
   ],
   "source": [
    "valor_medio_esperado_na_previsao"
   ]
  },
  {
   "cell_type": "code",
   "execution_count": 9,
   "metadata": {},
   "outputs": [
    {
     "name": "stdout",
     "output_type": "stream",
     "text": [
      "Soma dos Quadrados dos Erros (SSE): 42716\n"
     ]
    }
   ],
   "source": [
    "# Calculando (simulando) o SSE\n",
    "# O SSE é a diferença ao quadrado entre o valor previsto e o valor observado.\n",
    "# Considerando que o valor previsto seja igual a média, podemos considerar que \n",
    "# y = média da variável target (valores observados).\n",
    "\n",
    "# Estamos apenas simulando o SSE, uma vez que a regressão ainda não foi criada e os valores previstos \n",
    "# ainda não foram calculados.\n",
    "\n",
    "squared_errors = pd.Series(valor_medio_esperado_na_previsao - dataset['target'])**2 \n",
    "SSE = np.sum(squared_errors)\n",
    "print ('Soma dos Quadrados dos Erros (SSE): %01.f' % SSE)"
   ]
  },
  {
   "cell_type": "code",
   "execution_count": 12,
   "metadata": {},
   "outputs": [
    {
     "data": {
      "text/plain": [
       "<function matplotlib.pyplot.show(close=None, block=None)>"
      ]
     },
     "execution_count": 12,
     "metadata": {},
     "output_type": "execute_result"
    },
    {
     "data": {
      "image/png": "[encoded data removed]",
      "text/plain": [
       "<Figure size 432x288 with 1 Axes>"
      ]
     },
     "metadata": {
      "needs_background": "light"
     },
     "output_type": "display_data"
    }
   ],
   "source": [
    "# Histograma dos erros\n",
    "# Temos mais erros \"pequenos\", ou seja, mais valores próximos à média.\n",
    "#hist_plot = squared_errors.histplot('hist')\n",
    "\n",
    "# Importando as bibliotecas necessárias \n",
    "import seaborn as sns\n",
    "\n",
    "# Plot do histograma\n",
    "sns.histplot(data = squared_errors, kde = True)\n",
    "plt.show"
   ]
  },
  {
   "cell_type": "markdown",
   "metadata": {},
   "source": [
    "### Para Regressão Linear Simples usaremos como variável explanatória a variável RM que representa o número médio de quartos nas casas."
   ]
  },
  {
   "cell_type": "code",
   "execution_count": 13,
   "metadata": {},
   "outputs": [],
   "source": [
    "# Função para calcular o desvio padrão\n",
    "def calc_desvio_padrao(variavel, vies = 0):\n",
    "    observacoes = float(len(variavel))\n",
    "    return np.sqrt(np.sum((variavel - np.mean(variavel))**2) / (observacoes - min(vies, 1)))"
   ]
  },
  {
   "cell_type": "code",
   "execution_count": 14,
   "metadata": {},
   "outputs": [
    {
     "name": "stdout",
     "output_type": "stream",
     "text": [
      "Resultado da Função: 0.70192 Resultado do Numpy: 0.70192\n"
     ]
    }
   ],
   "source": [
    "# Imprimindo o desvio padrão via fórmula e via NumPy da variável RM\n",
    "print ('Resultado da Função: %0.5f Resultado do Numpy: %0.5f' % (calc_desvio_padrao(dataset['RM']), np.std(dataset['RM'])))"
   ]
  },
  {
   "cell_type": "code",
   "execution_count": 15,
   "metadata": {},
   "outputs": [],
   "source": [
    "# Funções para calcular a variância da variável RM e a correlação com a variável target\n",
    "def covariance(variavel_1, variavel_2, vies = 0):\n",
    "    observacoes = float(len(variavel_1))\n",
    "    return np.sum((variavel_1 - np.mean(variavel_1)) * (variavel_2 - np.mean(variavel_2))) / (observacoes - min(vies,1))\n",
    "\n",
    "def standardize(variavel):\n",
    "    return (variavel - np.mean(variavel)) / np.std(variavel)\n",
    "\n",
    "def correlation(var1, var2, vies = 0):\n",
    "    return covariance(standardize(var1), standardize(var2), vies)"
   ]
  },
  {
   "cell_type": "code",
   "execution_count": 16,
   "metadata": {},
   "outputs": [
    {
     "name": "stdout",
     "output_type": "stream",
     "text": [
      "Nossa estimativa de Correlação: 0.69536\n",
      "Correlação a partir da função pearsonr do SciPy: 0.69536\n"
     ]
    }
   ],
   "source": [
    "# Compara o resultado das nossas funções com a função pearsonr do SciPy\n",
    "from scipy.stats.stats import pearsonr\n",
    "print ('Nossa estimativa de Correlação: %0.5f' % (correlation(dataset['RM'], dataset['target'])))\n",
    "print ('Correlação a partir da função pearsonr do SciPy: %0.5f' % pearsonr(dataset['RM'], dataset['target'])[0])"
   ]
  },
  {
   "cell_type": "code",
   "execution_count": 17,
   "metadata": {},
   "outputs": [],
   "source": [
    "# Definindo o range dos valores de x e y\n",
    "x_range = [dataset['RM'].min(),dataset['RM'].max()]\n",
    "y_range = [dataset['target'].min(),dataset['target'].max()]"
   ]
  },
  {
   "cell_type": "code",
   "execution_count": 18,
   "metadata": {},
   "outputs": [
    {
     "data": {
      "image/png": "[encoded data removed]",
      "text/plain": [
       "<Figure size 432x288 with 1 Axes>"
      ]
     },
     "metadata": {
      "needs_background": "light"
     },
     "output_type": "display_data"
    }
   ],
   "source": [
    "# Plot dos valores de x e y com a média\n",
    "scatter_plot = dataset.plot(kind = 'scatter', x = 'RM', y = 'target', xlim = x_range, ylim = y_range)\n",
    "\n",
    "# Cálculo da média\n",
    "meanY = scatter_plot.plot(x_range, [dataset['target'].mean(),dataset['target'].mean()], '--', color = 'red', linewidth = 1)\n",
    "meanX = scatter_plot.plot([dataset['RM'].mean(), dataset['RM'].mean()], y_range, '--', color = 'red', linewidth = 1)"
   ]
  },
  {
   "cell_type": "markdown",
   "metadata": {},
   "source": [
    "## Regressão Linear com o StatsModels"
   ]
  },
  {
   "cell_type": "markdown",
   "metadata": {},
   "source": [
    "https://www.statsmodels.org/stable/index.html"
   ]
  },
  {
   "cell_type": "code",
   "execution_count": 19,
   "metadata": {},
   "outputs": [],
   "source": [
    "# Importando as funções\n",
    "import statsmodels.api as sm"
   ]
  },
  {
   "cell_type": "code",
   "execution_count": 20,
   "metadata": {},
   "outputs": [],
   "source": [
    "# Gerando X e Y. Vamos adicionar a constante ao valor de X, gerando uma matrix.\n",
    "y = dataset['target']\n",
    "X = dataset['RM']"
   ]
  },
  {
   "cell_type": "code",
   "execution_count": 21,
   "metadata": {},
   "outputs": [],
   "source": [
    "# Esse comando adiciona os valores dos coefientes à variável X (o viés será calculado internamente pela função)\n",
    "X = sm.add_constant(X)"
   ]
  },
  {
   "cell_type": "code",
   "execution_count": 22,
   "metadata": {},
   "outputs": [
    {
     "data": {
      "text/html": [
       "<div>\n",
       "<style scoped>\n",
       "    .dataframe tbody tr th:only-of-type {\n",
       "        vertical-align: middle;\n",
       "    }\n",
       "\n",
       "    .dataframe tbody tr th {\n",
       "        vertical-align: top;\n",
       "    }\n",
       "\n",
       "    .dataframe thead th {\n",
       "        text-align: right;\n",
       "    }\n",
       "</style>\n",
       "<table border=\"1\" class=\"dataframe\">\n",
       "  <thead>\n",
       "    <tr style=\"text-align: right;\">\n",
       "      <th></th>\n",
       "      <th>const</th>\n",
       "      <th>RM</th>\n",
       "    </tr>\n",
       "  </thead>\n",
       "  <tbody>\n",
       "    <tr>\n",
       "      <th>0</th>\n",
       "      <td>1.0</td>\n",
       "      <td>6.575</td>\n",
       "    </tr>\n",
       "    <tr>\n",
       "      <th>1</th>\n",
       "      <td>1.0</td>\n",
       "      <td>6.421</td>\n",
       "    </tr>\n",
       "    <tr>\n",
       "      <th>2</th>\n",
       "      <td>1.0</td>\n",
       "      <td>7.185</td>\n",
       "    </tr>\n",
       "    <tr>\n",
       "      <th>3</th>\n",
       "      <td>1.0</td>\n",
       "      <td>6.998</td>\n",
       "    </tr>\n",
       "    <tr>\n",
       "      <th>4</th>\n",
       "      <td>1.0</td>\n",
       "      <td>7.147</td>\n",
       "    </tr>\n",
       "  </tbody>\n",
       "</table>\n",
       "</div>"
      ],
      "text/plain": [
       "   const     RM\n",
       "0    1.0  6.575\n",
       "1    1.0  6.421\n",
       "2    1.0  7.185\n",
       "3    1.0  6.998\n",
       "4    1.0  7.147"
      ]
     },
     "execution_count": 22,
     "metadata": {},
     "output_type": "execute_result"
    }
   ],
   "source": [
    "X.head()"
   ]
  },
  {
   "cell_type": "code",
   "execution_count": 23,
   "metadata": {},
   "outputs": [],
   "source": [
    "# Criando o modelo de regressão\n",
    "modelo = sm.OLS(y, X)\n",
    "\n",
    "# Treinando o modelo\n",
    "modelo_v1 = modelo.fit()"
   ]
  },
  {
   "cell_type": "code",
   "execution_count": 24,
   "metadata": {},
   "outputs": [
    {
     "name": "stdout",
     "output_type": "stream",
     "text": [
      "                            OLS Regression Results                            \n",
      "==============================================================================\n",
      "Dep. Variable:                 target   R-squared:                       0.484\n",
      "Model:                            OLS   Adj. R-squared:                  0.483\n",
      "Method:                 Least Squares   F-statistic:                     471.8\n",
      "Date:                Tue, 19 Jul 2022   Prob (F-statistic):           2.49e-74\n",
      "Time:                        18:56:41   Log-Likelihood:                -1673.1\n",
      "No. Observations:                 506   AIC:                             3350.\n",
      "Df Residuals:                     504   BIC:                             3359.\n",
      "Df Model:                           1                                         \n",
      "Covariance Type:            nonrobust                                         \n",
      "==============================================================================\n",
      "                 coef    std err          t      P>|t|      [0.025      0.975]\n",
      "------------------------------------------------------------------------------\n",
      "const        -34.6706      2.650    -13.084      0.000     -39.877     -29.465\n",
      "RM             9.1021      0.419     21.722      0.000       8.279       9.925\n",
      "==============================================================================\n",
      "Omnibus:                      102.585   Durbin-Watson:                   0.684\n",
      "Prob(Omnibus):                  0.000   Jarque-Bera (JB):              612.449\n",
      "Skew:                           0.726   Prob(JB):                    1.02e-133\n",
      "Kurtosis:                       8.190   Cond. No.                         58.4\n",
      "==============================================================================\n",
      "\n",
      "Notes:\n",
      "[1] Standard Errors assume that the covariance matrix of the errors is correctly specified.\n"
     ]
    }
   ],
   "source": [
    "print(modelo_v1.summary())"
   ]
  },
  {
   "cell_type": "code",
   "execution_count": 25,
   "metadata": {},
   "outputs": [
    {
     "name": "stdout",
     "output_type": "stream",
     "text": [
      "const   -34.670621\n",
      "RM        9.102109\n",
      "dtype: float64\n"
     ]
    }
   ],
   "source": [
    "print(modelo_v1.params)"
   ]
  },
  {
   "cell_type": "code",
   "execution_count": 26,
   "metadata": {},
   "outputs": [
    {
     "data": {
      "text/plain": [
       "0      25.175746\n",
       "1      23.774021\n",
       "2      30.728032\n",
       "3      29.025938\n",
       "4      30.382152\n",
       "         ...    \n",
       "501    25.339584\n",
       "502    21.034286\n",
       "503    28.825691\n",
       "504    27.169108\n",
       "505    20.215096\n",
       "Length: 506, dtype: float64"
      ]
     },
     "execution_count": 26,
     "metadata": {},
     "output_type": "execute_result"
    }
   ],
   "source": [
    "# Gerando os valores previstos\n",
    "valores_previstos = modelo_v1.predict(X)\n",
    "valores_previstos"
   ]
  },
  {
   "cell_type": "code",
   "execution_count": 27,
   "metadata": {},
   "outputs": [
    {
     "name": "stdout",
     "output_type": "stream",
     "text": [
      "Se RM = 5 nosso modelo prevê que a mediana da taxa de ocupação é 10.8\n"
     ]
    }
   ],
   "source": [
    "# Fazendo previsões com o modelo treinado\n",
    "RM = 5\n",
    "Xp = np.array([1, RM])\n",
    "print (\"Se RM = %01.f nosso modelo prevê que a mediana da taxa de ocupação é %0.1f\" % (RM, modelo_v1.predict(Xp)))"
   ]
  },
  {
   "cell_type": "markdown",
   "metadata": {},
   "source": [
    "### Gerando um ScatterPlot com a Linha de Regressão"
   ]
  },
  {
   "cell_type": "code",
   "execution_count": 28,
   "metadata": {},
   "outputs": [],
   "source": [
    "# Range de valores para x e y\n",
    "x_range = [dataset['RM'].min(), dataset['RM'].max()]\n",
    "y_range = [dataset['target'].min(), dataset['target'].max()]"
   ]
  },
  {
   "cell_type": "code",
   "execution_count": 29,
   "metadata": {},
   "outputs": [
    {
     "data": {
      "image/png": "[encoded data removed]",
      "text/plain": [
       "<Figure size 432x288 with 1 Axes>"
      ]
     },
     "metadata": {
      "needs_background": "light"
     },
     "output_type": "display_data"
    }
   ],
   "source": [
    "# Primeira camada do Scatter Plot\n",
    "scatter_plot = dataset.plot(kind = 'scatter', x = 'RM', y = 'target', xlim = x_range, ylim = y_range)\n",
    "\n",
    "# Segunda camada do Scatter Plot (médias)\n",
    "meanY = scatter_plot.plot(x_range, [dataset['target'].mean(),dataset['target'].mean()], '--', color = 'red', linewidth = 1)\n",
    "meanX = scatter_plot.plot([dataset['RM'].mean(),dataset['RM'].mean()], y_range, '--', color = 'red', linewidth = 1)\n",
    "\n",
    "# Terceira camada do Scatter Plot (linha de regressão)\n",
    "regression_line = scatter_plot.plot(dataset['RM'], valores_previstos, '-', color = 'orange', linewidth = 2)"
   ]
  },
  {
   "cell_type": "code",
   "execution_count": 30,
   "metadata": {},
   "outputs": [],
   "source": [
    "# Gerando os resíduos\n",
    "residuos = dataset['target'] - valores_previstos\n",
    "residuos_normalizados = standardize(residuos)"
   ]
  },
  {
   "cell_type": "code",
   "execution_count": 31,
   "metadata": {},
   "outputs": [
    {
     "data": {
      "image/png": "[encoded data removed]",
      "text/plain": [
       "<Figure size 432x288 with 1 Axes>"
      ]
     },
     "metadata": {
      "needs_background": "light"
     },
     "output_type": "display_data"
    }
   ],
   "source": [
    "# ScatterPlot dos resíduos\n",
    "residual_scatter_plot = plt.plot(dataset['RM'], residuos_normalizados,'bp')\n",
    "plt.xlabel('RM') \n",
    "plt.ylabel('Resíduos Normalizados') \n",
    "mean_residual = plt.plot([int(x_range[0]),round(x_range[1],0)], [0,0], '-', color = 'red', linewidth = 3)\n",
    "upper_bound = plt.plot([int(x_range[0]),round(x_range[1],0)], [3,3], '--', color = 'red', linewidth = 2)\n",
    "lower_bound = plt.plot([int(x_range[0]),round(x_range[1],0)], [-3,-3], '--', color = 'red', linewidth = 2)\n",
    "plt.grid()"
   ]
  },
  {
   "cell_type": "markdown",
   "metadata": {},
   "source": [
    "## Regressão Linear com Scikit-Learn"
   ]
  },
  {
   "cell_type": "markdown",
   "metadata": {},
   "source": [
    "https://scikit-learn.org/stable/modules/generated/sklearn.linear_model.LinearRegression.html"
   ]
  },
  {
   "cell_type": "code",
   "execution_count": 32,
   "metadata": {},
   "outputs": [],
   "source": [
    "from sklearn import linear_model"
   ]
  },
  {
   "cell_type": "code",
   "execution_count": 33,
   "metadata": {},
   "outputs": [],
   "source": [
    "# Cria o objeto\n",
    "modelo_v2 = linear_model.LinearRegression(normalize = False, fit_intercept = True)"
   ]
  },
  {
   "cell_type": "code",
   "execution_count": 34,
   "metadata": {},
   "outputs": [],
   "source": [
    "# Define os valores de x e y\n",
    "num_observ = len(dataset)\n",
    "X = dataset['RM'].values.reshape((num_observ, 1)) # X deve sempre ser uma matriz e nunca um vetor\n",
    "y = dataset['target'].values # y pode ser um vetor"
   ]
  },
  {
   "cell_type": "code",
   "execution_count": 35,
   "metadata": {},
   "outputs": [
    {
     "data": {
      "text/plain": [
       "numpy.ndarray"
      ]
     },
     "execution_count": 35,
     "metadata": {},
     "output_type": "execute_result"
    }
   ],
   "source": [
    "type(X)"
   ]
  },
  {
   "cell_type": "code",
   "execution_count": 36,
   "metadata": {},
   "outputs": [
    {
     "data": {
      "text/plain": [
       "2"
      ]
     },
     "execution_count": 36,
     "metadata": {},
     "output_type": "execute_result"
    }
   ],
   "source": [
    "# Número de dimensões de X (matriz)\n",
    "np.ndim(X)"
   ]
  },
  {
   "cell_type": "code",
   "execution_count": 37,
   "metadata": {},
   "outputs": [
    {
     "name": "stdout",
     "output_type": "stream",
     "text": [
      "[[6.575]\n",
      " [6.421]\n",
      " [7.185]\n",
      " [6.998]\n",
      " [7.147]\n",
      " [6.43 ]\n",
      " [6.012]\n",
      " [6.172]\n",
      " [5.631]\n",
      " [6.004]\n",
      " [6.377]\n",
      " [6.009]\n",
      " [5.889]\n",
      " [5.949]\n",
      " [6.096]\n",
      " [5.834]\n",
      " [5.935]\n",
      " [5.99 ]\n",
      " [5.456]\n",
      " [5.727]\n",
      " [5.57 ]\n",
      " [5.965]\n",
      " [6.142]\n",
      " [5.813]\n",
      " [5.924]\n",
      " [5.599]\n",
      " [5.813]\n",
      " [6.047]\n",
      " [6.495]\n",
      " [6.674]\n",
      " [5.713]\n",
      " [6.072]\n",
      " [5.95 ]\n",
      " [5.701]\n",
      " [6.096]\n",
      " [5.933]\n",
      " [5.841]\n",
      " [5.85 ]\n",
      " [5.966]\n",
      " [6.595]\n",
      " [7.024]\n",
      " [6.77 ]\n",
      " [6.169]\n",
      " [6.211]\n",
      " [6.069]\n",
      " [5.682]\n",
      " [5.786]\n",
      " [6.03 ]\n",
      " [5.399]\n",
      " [5.602]\n",
      " [5.963]\n",
      " [6.115]\n",
      " [6.511]\n",
      " [5.998]\n",
      " [5.888]\n",
      " [7.249]\n",
      " [6.383]\n",
      " [6.816]\n",
      " [6.145]\n",
      " [5.927]\n",
      " [5.741]\n",
      " [5.966]\n",
      " [6.456]\n",
      " [6.762]\n",
      " [7.104]\n",
      " [6.29 ]\n",
      " [5.787]\n",
      " [5.878]\n",
      " [5.594]\n",
      " [5.885]\n",
      " [6.417]\n",
      " [5.961]\n",
      " [6.065]\n",
      " [6.245]\n",
      " [6.273]\n",
      " [6.286]\n",
      " [6.279]\n",
      " [6.14 ]\n",
      " [6.232]\n",
      " [5.874]\n",
      " [6.727]\n",
      " [6.619]\n",
      " [6.302]\n",
      " [6.167]\n",
      " [6.389]\n",
      " [6.63 ]\n",
      " [6.015]\n",
      " [6.121]\n",
      " [7.007]\n",
      " [7.079]\n",
      " [6.417]\n",
      " [6.405]\n",
      " [6.442]\n",
      " [6.211]\n",
      " [6.249]\n",
      " [6.625]\n",
      " [6.163]\n",
      " [8.069]\n",
      " [7.82 ]\n",
      " [7.416]\n",
      " [6.727]\n",
      " [6.781]\n",
      " [6.405]\n",
      " [6.137]\n",
      " [6.167]\n",
      " [5.851]\n",
      " [5.836]\n",
      " [6.127]\n",
      " [6.474]\n",
      " [6.229]\n",
      " [6.195]\n",
      " [6.715]\n",
      " [5.913]\n",
      " [6.092]\n",
      " [6.254]\n",
      " [5.928]\n",
      " [6.176]\n",
      " [6.021]\n",
      " [5.872]\n",
      " [5.731]\n",
      " [5.87 ]\n",
      " [6.004]\n",
      " [5.961]\n",
      " [5.856]\n",
      " [5.879]\n",
      " [5.986]\n",
      " [5.613]\n",
      " [5.693]\n",
      " [6.431]\n",
      " [5.637]\n",
      " [6.458]\n",
      " [6.326]\n",
      " [6.372]\n",
      " [5.822]\n",
      " [5.757]\n",
      " [6.335]\n",
      " [5.942]\n",
      " [6.454]\n",
      " [5.857]\n",
      " [6.151]\n",
      " [6.174]\n",
      " [5.019]\n",
      " [5.403]\n",
      " [5.468]\n",
      " [4.903]\n",
      " [6.13 ]\n",
      " [5.628]\n",
      " [4.926]\n",
      " [5.186]\n",
      " [5.597]\n",
      " [6.122]\n",
      " [5.404]\n",
      " [5.012]\n",
      " [5.709]\n",
      " [6.129]\n",
      " [6.152]\n",
      " [5.272]\n",
      " [6.943]\n",
      " [6.066]\n",
      " [6.51 ]\n",
      " [6.25 ]\n",
      " [7.489]\n",
      " [7.802]\n",
      " [8.375]\n",
      " [5.854]\n",
      " [6.101]\n",
      " [7.929]\n",
      " [5.877]\n",
      " [6.319]\n",
      " [6.402]\n",
      " [5.875]\n",
      " [5.88 ]\n",
      " [5.572]\n",
      " [6.416]\n",
      " [5.859]\n",
      " [6.546]\n",
      " [6.02 ]\n",
      " [6.315]\n",
      " [6.86 ]\n",
      " [6.98 ]\n",
      " [7.765]\n",
      " [6.144]\n",
      " [7.155]\n",
      " [6.563]\n",
      " [5.604]\n",
      " [6.153]\n",
      " [7.831]\n",
      " [6.782]\n",
      " [6.556]\n",
      " [7.185]\n",
      " [6.951]\n",
      " [6.739]\n",
      " [7.178]\n",
      " [6.8  ]\n",
      " [6.604]\n",
      " [7.875]\n",
      " [7.287]\n",
      " [7.107]\n",
      " [7.274]\n",
      " [6.975]\n",
      " [7.135]\n",
      " [6.162]\n",
      " [7.61 ]\n",
      " [7.853]\n",
      " [8.034]\n",
      " [5.891]\n",
      " [6.326]\n",
      " [5.783]\n",
      " [6.064]\n",
      " [5.344]\n",
      " [5.96 ]\n",
      " [5.404]\n",
      " [5.807]\n",
      " [6.375]\n",
      " [5.412]\n",
      " [6.182]\n",
      " [5.888]\n",
      " [6.642]\n",
      " [5.951]\n",
      " [6.373]\n",
      " [6.951]\n",
      " [6.164]\n",
      " [6.879]\n",
      " [6.618]\n",
      " [8.266]\n",
      " [8.725]\n",
      " [8.04 ]\n",
      " [7.163]\n",
      " [7.686]\n",
      " [6.552]\n",
      " [5.981]\n",
      " [7.412]\n",
      " [8.337]\n",
      " [8.247]\n",
      " [6.726]\n",
      " [6.086]\n",
      " [6.631]\n",
      " [7.358]\n",
      " [6.481]\n",
      " [6.606]\n",
      " [6.897]\n",
      " [6.095]\n",
      " [6.358]\n",
      " [6.393]\n",
      " [5.593]\n",
      " [5.605]\n",
      " [6.108]\n",
      " [6.226]\n",
      " [6.433]\n",
      " [6.718]\n",
      " [6.487]\n",
      " [6.438]\n",
      " [6.957]\n",
      " [8.259]\n",
      " [6.108]\n",
      " [5.876]\n",
      " [7.454]\n",
      " [8.704]\n",
      " [7.333]\n",
      " [6.842]\n",
      " [7.203]\n",
      " [7.52 ]\n",
      " [8.398]\n",
      " [7.327]\n",
      " [7.206]\n",
      " [5.56 ]\n",
      " [7.014]\n",
      " [8.297]\n",
      " [7.47 ]\n",
      " [5.92 ]\n",
      " [5.856]\n",
      " [6.24 ]\n",
      " [6.538]\n",
      " [7.691]\n",
      " [6.758]\n",
      " [6.854]\n",
      " [7.267]\n",
      " [6.826]\n",
      " [6.482]\n",
      " [6.812]\n",
      " [7.82 ]\n",
      " [6.968]\n",
      " [7.645]\n",
      " [7.923]\n",
      " [7.088]\n",
      " [6.453]\n",
      " [6.23 ]\n",
      " [6.209]\n",
      " [6.315]\n",
      " [6.565]\n",
      " [6.861]\n",
      " [7.148]\n",
      " [6.63 ]\n",
      " [6.127]\n",
      " [6.009]\n",
      " [6.678]\n",
      " [6.549]\n",
      " [5.79 ]\n",
      " [6.345]\n",
      " [7.041]\n",
      " [6.871]\n",
      " [6.59 ]\n",
      " [6.495]\n",
      " [6.982]\n",
      " [7.236]\n",
      " [6.616]\n",
      " [7.42 ]\n",
      " [6.849]\n",
      " [6.635]\n",
      " [5.972]\n",
      " [4.973]\n",
      " [6.122]\n",
      " [6.023]\n",
      " [6.266]\n",
      " [6.567]\n",
      " [5.705]\n",
      " [5.914]\n",
      " [5.782]\n",
      " [6.382]\n",
      " [6.113]\n",
      " [6.426]\n",
      " [6.376]\n",
      " [6.041]\n",
      " [5.708]\n",
      " [6.415]\n",
      " [6.431]\n",
      " [6.312]\n",
      " [6.083]\n",
      " [5.868]\n",
      " [6.333]\n",
      " [6.144]\n",
      " [5.706]\n",
      " [6.031]\n",
      " [6.316]\n",
      " [6.31 ]\n",
      " [6.037]\n",
      " [5.869]\n",
      " [5.895]\n",
      " [6.059]\n",
      " [5.985]\n",
      " [5.968]\n",
      " [7.241]\n",
      " [6.54 ]\n",
      " [6.696]\n",
      " [6.874]\n",
      " [6.014]\n",
      " [5.898]\n",
      " [6.516]\n",
      " [6.635]\n",
      " [6.939]\n",
      " [6.49 ]\n",
      " [6.579]\n",
      " [5.884]\n",
      " [6.728]\n",
      " [5.663]\n",
      " [5.936]\n",
      " [6.212]\n",
      " [6.395]\n",
      " [6.127]\n",
      " [6.112]\n",
      " [6.398]\n",
      " [6.251]\n",
      " [5.362]\n",
      " [5.803]\n",
      " [8.78 ]\n",
      " [3.561]\n",
      " [4.963]\n",
      " [3.863]\n",
      " [4.97 ]\n",
      " [6.683]\n",
      " [7.016]\n",
      " [6.216]\n",
      " [5.875]\n",
      " [4.906]\n",
      " [4.138]\n",
      " [7.313]\n",
      " [6.649]\n",
      " [6.794]\n",
      " [6.38 ]\n",
      " [6.223]\n",
      " [6.968]\n",
      " [6.545]\n",
      " [5.536]\n",
      " [5.52 ]\n",
      " [4.368]\n",
      " [5.277]\n",
      " [4.652]\n",
      " [5.   ]\n",
      " [4.88 ]\n",
      " [5.39 ]\n",
      " [5.713]\n",
      " [6.051]\n",
      " [5.036]\n",
      " [6.193]\n",
      " [5.887]\n",
      " [6.471]\n",
      " [6.405]\n",
      " [5.747]\n",
      " [5.453]\n",
      " [5.852]\n",
      " [5.987]\n",
      " [6.343]\n",
      " [6.404]\n",
      " [5.349]\n",
      " [5.531]\n",
      " [5.683]\n",
      " [4.138]\n",
      " [5.608]\n",
      " [5.617]\n",
      " [6.852]\n",
      " [5.757]\n",
      " [6.657]\n",
      " [4.628]\n",
      " [5.155]\n",
      " [4.519]\n",
      " [6.434]\n",
      " [6.782]\n",
      " [5.304]\n",
      " [5.957]\n",
      " [6.824]\n",
      " [6.411]\n",
      " [6.006]\n",
      " [5.648]\n",
      " [6.103]\n",
      " [5.565]\n",
      " [5.896]\n",
      " [5.837]\n",
      " [6.202]\n",
      " [6.193]\n",
      " [6.38 ]\n",
      " [6.348]\n",
      " [6.833]\n",
      " [6.425]\n",
      " [6.436]\n",
      " [6.208]\n",
      " [6.629]\n",
      " [6.461]\n",
      " [6.152]\n",
      " [5.935]\n",
      " [5.627]\n",
      " [5.818]\n",
      " [6.406]\n",
      " [6.219]\n",
      " [6.485]\n",
      " [5.854]\n",
      " [6.459]\n",
      " [6.341]\n",
      " [6.251]\n",
      " [6.185]\n",
      " [6.417]\n",
      " [6.749]\n",
      " [6.655]\n",
      " [6.297]\n",
      " [7.393]\n",
      " [6.728]\n",
      " [6.525]\n",
      " [5.976]\n",
      " [5.936]\n",
      " [6.301]\n",
      " [6.081]\n",
      " [6.701]\n",
      " [6.376]\n",
      " [6.317]\n",
      " [6.513]\n",
      " [6.209]\n",
      " [5.759]\n",
      " [5.952]\n",
      " [6.003]\n",
      " [5.926]\n",
      " [5.713]\n",
      " [6.167]\n",
      " [6.229]\n",
      " [6.437]\n",
      " [6.98 ]\n",
      " [5.427]\n",
      " [6.162]\n",
      " [6.484]\n",
      " [5.304]\n",
      " [6.185]\n",
      " [6.229]\n",
      " [6.242]\n",
      " [6.75 ]\n",
      " [7.061]\n",
      " [5.762]\n",
      " [5.871]\n",
      " [6.312]\n",
      " [6.114]\n",
      " [5.905]\n",
      " [5.454]\n",
      " [5.414]\n",
      " [5.093]\n",
      " [5.983]\n",
      " [5.983]\n",
      " [5.707]\n",
      " [5.926]\n",
      " [5.67 ]\n",
      " [5.39 ]\n",
      " [5.794]\n",
      " [6.019]\n",
      " [5.569]\n",
      " [6.027]\n",
      " [6.593]\n",
      " [6.12 ]\n",
      " [6.976]\n",
      " [6.794]\n",
      " [6.03 ]]\n"
     ]
    }
   ],
   "source": [
    "print(X)"
   ]
  },
  {
   "cell_type": "code",
   "execution_count": 38,
   "metadata": {},
   "outputs": [
    {
     "data": {
      "text/plain": [
       "numpy.ndarray"
      ]
     },
     "execution_count": 38,
     "metadata": {},
     "output_type": "execute_result"
    }
   ],
   "source": [
    "type(y)"
   ]
  },
  {
   "cell_type": "code",
   "execution_count": 39,
   "metadata": {},
   "outputs": [
    {
     "data": {
      "text/plain": [
       "1"
      ]
     },
     "execution_count": 39,
     "metadata": {},
     "output_type": "execute_result"
    }
   ],
   "source": [
    "# Número de dimensões de y (vetor)\n",
    "np.ndim(y)"
   ]
  },
  {
   "cell_type": "code",
   "execution_count": 40,
   "metadata": {},
   "outputs": [
    {
     "name": "stdout",
     "output_type": "stream",
     "text": [
      "[24.  21.6 34.7 33.4 36.2 28.7 22.9 27.1 16.5 18.9 15.  18.9 21.7 20.4\n",
      " 18.2 19.9 23.1 17.5 20.2 18.2 13.6 19.6 15.2 14.5 15.6 13.9 16.6 14.8\n",
      " 18.4 21.  12.7 14.5 13.2 13.1 13.5 18.9 20.  21.  24.7 30.8 34.9 26.6\n",
      " 25.3 24.7 21.2 19.3 20.  16.6 14.4 19.4 19.7 20.5 25.  23.4 18.9 35.4\n",
      " 24.7 31.6 23.3 19.6 18.7 16.  22.2 25.  33.  23.5 19.4 22.  17.4 20.9\n",
      " 24.2 21.7 22.8 23.4 24.1 21.4 20.  20.8 21.2 20.3 28.  23.9 24.8 22.9\n",
      " 23.9 26.6 22.5 22.2 23.6 28.7 22.6 22.  22.9 25.  20.6 28.4 21.4 38.7\n",
      " 43.8 33.2 27.5 26.5 18.6 19.3 20.1 19.5 19.5 20.4 19.8 19.4 21.7 22.8\n",
      " 18.8 18.7 18.5 18.3 21.2 19.2 20.4 19.3 22.  20.3 20.5 17.3 18.8 21.4\n",
      " 15.7 16.2 18.  14.3 19.2 19.6 23.  18.4 15.6 18.1 17.4 17.1 13.3 17.8\n",
      " 14.  14.4 13.4 15.6 11.8 13.8 15.6 14.6 17.8 15.4 21.5 19.6 15.3 19.4\n",
      " 17.  15.6 13.1 41.3 24.3 23.3 27.  50.  50.  50.  22.7 25.  50.  23.8\n",
      " 23.8 22.3 17.4 19.1 23.1 23.6 22.6 29.4 23.2 24.6 29.9 37.2 39.8 36.2\n",
      " 37.9 32.5 26.4 29.6 50.  32.  29.8 34.9 37.  30.5 36.4 31.1 29.1 50.\n",
      " 33.3 30.3 34.6 34.9 32.9 24.1 42.3 48.5 50.  22.6 24.4 22.5 24.4 20.\n",
      " 21.7 19.3 22.4 28.1 23.7 25.  23.3 28.7 21.5 23.  26.7 21.7 27.5 30.1\n",
      " 44.8 50.  37.6 31.6 46.7 31.5 24.3 31.7 41.7 48.3 29.  24.  25.1 31.5\n",
      " 23.7 23.3 22.  20.1 22.2 23.7 17.6 18.5 24.3 20.5 24.5 26.2 24.4 24.8\n",
      " 29.6 42.8 21.9 20.9 44.  50.  36.  30.1 33.8 43.1 48.8 31.  36.5 22.8\n",
      " 30.7 50.  43.5 20.7 21.1 25.2 24.4 35.2 32.4 32.  33.2 33.1 29.1 35.1\n",
      " 45.4 35.4 46.  50.  32.2 22.  20.1 23.2 22.3 24.8 28.5 37.3 27.9 23.9\n",
      " 21.7 28.6 27.1 20.3 22.5 29.  24.8 22.  26.4 33.1 36.1 28.4 33.4 28.2\n",
      " 22.8 20.3 16.1 22.1 19.4 21.6 23.8 16.2 17.8 19.8 23.1 21.  23.8 23.1\n",
      " 20.4 18.5 25.  24.6 23.  22.2 19.3 22.6 19.8 17.1 19.4 22.2 20.7 21.1\n",
      " 19.5 18.5 20.6 19.  18.7 32.7 16.5 23.9 31.2 17.5 17.2 23.1 24.5 26.6\n",
      " 22.9 24.1 18.6 30.1 18.2 20.6 17.8 21.7 22.7 22.6 25.  19.9 20.8 16.8\n",
      " 21.9 27.5 21.9 23.1 50.  50.  50.  50.  50.  13.8 13.8 15.  13.9 13.3\n",
      " 13.1 10.2 10.4 10.9 11.3 12.3  8.8  7.2 10.5  7.4 10.2 11.5 15.1 23.2\n",
      "  9.7 13.8 12.7 13.1 12.5  8.5  5.   6.3  5.6  7.2 12.1  8.3  8.5  5.\n",
      " 11.9 27.9 17.2 27.5 15.  17.2 17.9 16.3  7.   7.2  7.5 10.4  8.8  8.4\n",
      " 16.7 14.2 20.8 13.4 11.7  8.3 10.2 10.9 11.   9.5 14.5 14.1 16.1 14.3\n",
      " 11.7 13.4  9.6  8.7  8.4 12.8 10.5 17.1 18.4 15.4 10.8 11.8 14.9 12.6\n",
      " 14.1 13.  13.4 15.2 16.1 17.8 14.9 14.1 12.7 13.5 14.9 20.  16.4 17.7\n",
      " 19.5 20.2 21.4 19.9 19.  19.1 19.1 20.1 19.9 19.6 23.2 29.8 13.8 13.3\n",
      " 16.7 12.  14.6 21.4 23.  23.7 25.  21.8 20.6 21.2 19.1 20.6 15.2  7.\n",
      "  8.1 13.6 20.1 21.8 24.5 23.1 19.7 18.3 21.2 17.5 16.8 22.4 20.6 23.9\n",
      " 22.  11.9]\n"
     ]
    }
   ],
   "source": [
    "print(y)"
   ]
  },
  {
   "cell_type": "code",
   "execution_count": 42,
   "metadata": {},
   "outputs": [
    {
     "data": {
      "text/html": [
       "<style>#sk-container-id-2 {color: black;background-color: white;}#sk-container-id-2 pre{padding: 0;}#sk-container-id-2 div.sk-toggleable {background-color: white;}#sk-container-id-2 label.sk-toggleable__label {cursor: pointer;display: block;width: 100%;margin-bottom: 0;padding: 0.3em;box-sizing: border-box;text-align: center;}#sk-container-id-2 label.sk-toggleable__label-arrow:before {content: \"▸\";float: left;margin-right: 0.25em;color: #696969;}#sk-container-id-2 label.sk-toggleable__label-arrow:hover:before {color: black;}#sk-container-id-2 div.sk-estimator:hover label.sk-toggleable__label-arrow:before {color: black;}#sk-container-id-2 div.sk-toggleable__content {max-height: 0;max-width: 0;overflow: hidden;text-align: left;background-color: #f0f8ff;}#sk-container-id-2 div.sk-toggleable__content pre {margin: 0.2em;color: black;border-radius: 0.25em;background-color: #f0f8ff;}#sk-container-id-2 input.sk-toggleable__control:checked~div.sk-toggleable__content {max-height: 200px;max-width: 100%;overflow: auto;}#sk-container-id-2 input.sk-toggleable__control:checked~label.sk-toggleable__label-arrow:before {content: \"▾\";}#sk-container-id-2 div.sk-estimator input.sk-toggleable__control:checked~label.sk-toggleable__label {background-color: #d4ebff;}#sk-container-id-2 div.sk-label input.sk-toggleable__control:checked~label.sk-toggleable__label {background-color: #d4ebff;}#sk-container-id-2 input.sk-hidden--visually {border: 0;clip: rect(1px 1px 1px 1px);clip: rect(1px, 1px, 1px, 1px);height: 1px;margin: -1px;overflow: hidden;padding: 0;position: absolute;width: 1px;}#sk-container-id-2 div.sk-estimator {font-family: monospace;background-color: #f0f8ff;border: 1px dotted black;border-radius: 0.25em;box-sizing: border-box;margin-bottom: 0.5em;}#sk-container-id-2 div.sk-estimator:hover {background-color: #d4ebff;}#sk-container-id-2 div.sk-parallel-item::after {content: \"\";width: 100%;border-bottom: 1px solid gray;flex-grow: 1;}#sk-container-id-2 div.sk-label:hover label.sk-toggleable__label {background-color: #d4ebff;}#sk-container-id-2 div.sk-serial::before {content: \"\";position: absolute;border-left: 1px solid gray;box-sizing: border-box;top: 0;bottom: 0;left: 50%;z-index: 0;}#sk-container-id-2 div.sk-serial {display: flex;flex-direction: column;align-items: center;background-color: white;padding-right: 0.2em;padding-left: 0.2em;position: relative;}#sk-container-id-2 div.sk-item {position: relative;z-index: 1;}#sk-container-id-2 div.sk-parallel {display: flex;align-items: stretch;justify-content: center;background-color: white;position: relative;}#sk-container-id-2 div.sk-item::before, #sk-container-id-2 div.sk-parallel-item::before {content: \"\";position: absolute;border-left: 1px solid gray;box-sizing: border-box;top: 0;bottom: 0;left: 50%;z-index: -1;}#sk-container-id-2 div.sk-parallel-item {display: flex;flex-direction: column;z-index: 1;position: relative;background-color: white;}#sk-container-id-2 div.sk-parallel-item:first-child::after {align-self: flex-end;width: 50%;}#sk-container-id-2 div.sk-parallel-item:last-child::after {align-self: flex-start;width: 50%;}#sk-container-id-2 div.sk-parallel-item:only-child::after {width: 0;}#sk-container-id-2 div.sk-dashed-wrapped {border: 1px dashed gray;margin: 0 0.4em 0.5em 0.4em;box-sizing: border-box;padding-bottom: 0.4em;background-color: white;}#sk-container-id-2 div.sk-label label {font-family: monospace;font-weight: bold;display: inline-block;line-height: 1.2em;}#sk-container-id-2 div.sk-label-container {text-align: center;}#sk-container-id-2 div.sk-container {/* jupyter's `normalize.less` sets `[hidden] { display: none; }` but bootstrap.min.css set `[hidden] { display: none !important; }` so we also need the `!important` here to be able to override the default hidden behavior on the sphinx rendered scikit-learn.org. See: https://github.com/scikit-learn/scikit-learn/issues/21755 */display: inline-block !important;position: relative;}#sk-container-id-2 div.sk-text-repr-fallback {display: none;}</style><div id=\"sk-container-id-2\" class=\"sk-top-container\"><div class=\"sk-text-repr-fallback\"><pre>LinearRegression(normalize=False)</pre><b>In a Jupyter environment, please rerun this cell to show the HTML representation or trust the notebook. <br />On GitHub, the HTML representation is unable to render, please try loading this page with nbviewer.org.</b></div><div class=\"sk-container\" hidden><div class=\"sk-item\"><div class=\"sk-estimator sk-toggleable\"><input class=\"sk-toggleable__control sk-hidden--visually\" id=\"sk-estimator-id-2\" type=\"checkbox\" checked><label for=\"sk-estimator-id-2\" class=\"sk-toggleable__label sk-toggleable__label-arrow\">LinearRegression</label><div class=\"sk-toggleable__content\"><pre>LinearRegression(normalize=False)</pre></div></div></div></div></div>"
      ],
      "text/plain": [
       "LinearRegression(normalize=False)"
      ]
     },
     "execution_count": 42,
     "metadata": {},
     "output_type": "execute_result"
    }
   ],
   "source": [
    "# Treinamento do modelo - fit()\n",
    "modelo_v2.fit(X,y)"
   ]
  },
  {
   "cell_type": "code",
   "execution_count": 43,
   "metadata": {},
   "outputs": [
    {
     "name": "stdout",
     "output_type": "stream",
     "text": [
      "[9.10210898]\n",
      "-34.67062077643857\n"
     ]
    }
   ],
   "source": [
    "# Imprime os coeficientes\n",
    "print (modelo_v2.coef_)\n",
    "print (modelo_v2.intercept_)"
   ]
  },
  {
   "cell_type": "code",
   "execution_count": 44,
   "metadata": {},
   "outputs": [
    {
     "name": "stdout",
     "output_type": "stream",
     "text": [
      "[25.17574577 23.77402099 30.72803225 29.02593787 30.38215211 23.85593997\n",
      " 20.05125842 21.50759586 16.5833549  19.97844155 23.3735282  20.02395209\n",
      " 18.93169901 19.47782555 20.81583557 18.43108302 19.35039603 19.85101202\n",
      " 14.99048582 17.45715736 16.02812625 19.6234593  21.23453259 18.23993873\n",
      " 19.25027283 16.29208741 18.23993873 20.36983223 24.44757706 26.07685456\n",
      " 17.32972783 20.59738496 19.48692766 17.22050253 20.81583557 19.33219181\n",
      " 18.49479778 18.57671676 19.63256141 25.35778795 29.26259271 26.95065703\n",
      " 21.48028953 21.86257811 20.57007863 17.04756245 17.99418179 20.21509638\n",
      " 14.47166561 16.31939374 19.60525508 20.98877564 24.5932108  19.92382889\n",
      " 18.9225969  31.31056723 23.42814085 27.36935404 21.26183891 19.27757916\n",
      " 17.58458688 19.63256141 24.09259481 26.87784015 29.99076143 22.58164472\n",
      " 18.0032839  18.83157581 16.24657686 18.89529058 23.73761256 19.58705086\n",
      " 20.53367019 22.17204981 22.42690886 22.54523628 22.48152152 21.21632837\n",
      " 22.05372239 18.79516738 26.55926634 25.57623857 22.69087002 21.46208531\n",
      " 23.4827535  25.67636177 20.07856475 21.0433883  29.10785685 29.7632087\n",
      " 23.73761256 23.62838725 23.96516528 21.86257811 22.20845825 25.63085122\n",
      " 21.42567687 38.77429659 36.50787146 32.83061943 26.55926634 27.05078022\n",
      " 23.62838725 21.18902204 21.46208531 18.58581887 18.44928724 21.09800095\n",
      " 24.25643277 22.02641607 21.71694436 26.45004103 19.15014963 20.77942714\n",
      " 22.25396879 19.28668126 21.54400429 20.1331774  18.77696316 17.49356579\n",
      " 18.75875894 19.97844155 19.58705086 18.63132942 18.84067792 19.81460358\n",
      " 16.41951693 17.14768565 23.86504208 16.63796755 24.11079902 22.90932064\n",
      " 23.32801765 18.32185771 17.73022063 22.99123962 19.41411079 24.07439059\n",
      " 18.64043153 21.31645157 21.52580007 11.0128642  14.50807405 15.09971113\n",
      "  9.95701956 21.12530728 16.55604857 10.16636806 12.5329164  16.27388319\n",
      " 21.05249041 14.51717616 10.94914944 17.2933194  21.11620517 21.32555368\n",
      " 13.31569777 28.52532188 20.5427723  24.58410869 22.21756036 33.49507338\n",
      " 36.34403349 41.55954194 18.6131252  20.86134612 37.50000134 18.82247371\n",
      " 22.84560588 23.60108092 18.80426949 18.84978003 16.04633047 23.72851045\n",
      " 18.65863574 24.91178461 20.12407529 22.80919744 27.76984683 28.86209991\n",
      " 36.00725546 21.2527368  30.45496898 25.06652047 16.33759795 21.33465578\n",
      " 36.60799466 27.05988233 25.0028057  30.72803225 28.59813875 26.66849165\n",
      " 30.66431749 27.2237203  25.43970694 37.00848745 31.65644737 30.01806775\n",
      " 31.53811995 28.81658937 30.2729268  21.41657477 34.59642857 36.80824105\n",
      " 38.45572278 18.94990323 22.90932064 17.96687546 20.52456809 13.97104962\n",
      " 19.57794875 14.51717616 18.18532608 23.35532398 14.58999303 21.59861695\n",
      " 18.9225969  25.78558708 19.49602977 23.33711976 28.59813875 21.43477898\n",
      " 27.94278691 25.56713646 40.56741206 44.74528008 38.51033543 30.52778586\n",
      " 35.28818885 24.96639727 19.76909304 32.79421099 41.2136618  40.39447199\n",
      " 26.55016423 20.72481448 25.68546388 32.30269711 24.32014753 25.45791115\n",
      " 28.10662487 20.80673346 23.20058813 23.51916194 16.23747476 16.34670006\n",
      " 20.92506088 21.99910974 23.8832463  26.47734736 24.37476018 23.92875684\n",
      " 28.65275141 40.5036973  20.92506088 18.8133716  33.17649957 44.5541358\n",
      " 32.07514438 27.60600887 30.89187022 33.77723876 41.76889045 32.02053173\n",
      " 30.91917654 15.93710516 29.17157162 40.84957744 33.32213331 19.21386439\n",
      " 18.63132942 22.12653927 24.83896774 35.3336994  26.84143172 27.71523418\n",
      " 31.47440519 27.46037513 24.32924964 27.3329456  36.50787146 28.7528746\n",
      " 34.91500238 37.44538868 29.84512768 24.06528848 22.03551818 21.84437389\n",
      " 22.80919744 25.08472469 27.77894894 30.39125422 25.67636177 21.09800095\n",
      " 20.02395209 26.113263   24.93909094 18.03059022 23.08226071 29.41732856\n",
      " 27.86997003 25.31227741 24.44757706 28.88030413 31.19223981 25.54893224\n",
      " 32.86702786 27.66972364 25.72187231 19.68717406 10.59416719 21.05249041\n",
      " 20.15138162 22.3631941  25.1029289  17.25691096 19.15925174 17.95777335\n",
      " 23.41903874 20.97057143 23.81953154 23.36442609 20.31521958 17.28421729\n",
      " 23.71940834 23.86504208 22.78189111 20.69750816 18.74055473 22.9730354\n",
      " 21.2527368  17.26601307 20.22419849 22.81829955 22.76368689 20.27881114\n",
      " 18.74965683 18.98631167 20.47905754 19.80550148 19.65076562 31.23775036\n",
      " 24.85717196 26.27710096 27.89727636 20.06946264 19.01361799 24.63872134\n",
      " 25.72187231 28.48891344 24.40206651 25.21215421 18.88618847 26.56836845\n",
      " 16.87462238 19.35949814 21.87168021 23.53736616 21.09800095 20.96146932\n",
      " 23.56467249 22.22666246 14.13488758 18.14891764 45.24589608 -2.25801069\n",
      " 10.5031461   0.49082622 10.56686086 26.15877354 29.18977584 21.90808865\n",
      " 18.80426949  9.98432589  2.99390619 31.8931022  25.84930184 27.16910764\n",
      " 23.40083452 21.97180341 28.7528746  24.90268251 15.71865454 15.5730208\n",
      "  5.08739125 13.36120832  7.6723902  10.83992413  9.74767105 14.38974663\n",
      " 17.32972783 20.40624067 11.16760005 21.69874014 18.9134948  24.22912644\n",
      " 23.62838725 17.63919954 14.9631795  18.59492098 19.82370569 23.06405649\n",
      " 23.61928514 14.01656016 15.673144   17.05666456  2.99390619 16.37400639\n",
      " 16.45592537 27.69702996 17.73022063 25.92211871  7.45393959 12.25075102\n",
      "  6.46180971 23.89234841 27.05988233 13.60696526 19.55064242 27.44217091\n",
      " 23.6829999  19.99664576 16.73809075 20.87955034 15.9826157  18.99541378\n",
      " 18.45838935 21.78065912 21.69874014 23.40083452 23.10956704 27.52408989\n",
      " 23.81042943 23.91055263 21.83527178 25.66725966 24.13810535 21.32555368\n",
      " 19.35039603 16.54694646 18.28544928 23.63748936 21.93539498 24.35655597\n",
      " 18.6131252  24.11990113 23.04585227 22.22666246 21.62592327 23.73761256\n",
      " 26.75951274 25.90391449 22.64535948 32.62127092 26.56836845 24.72064033\n",
      " 19.7235825  19.35949814 22.68176791 20.67930394 26.32261151 23.36442609\n",
      " 22.82740166 24.61141502 21.84437389 17.74842485 19.50513188 19.96933944\n",
      " 19.26847705 17.32972783 21.46208531 22.02641607 23.91965474 28.86209991\n",
      " 14.72652466 21.41657477 24.34745386 13.60696526 21.62592327 22.02641607\n",
      " 22.14474348 26.76861485 29.59937074 17.77573117 18.76786105 22.78189111\n",
      " 20.97967353 19.07733276 14.97228161 14.60819725 11.68642026 19.78729726\n",
      " 19.78729726 17.27511518 19.26847705 16.93833715 14.38974663 18.06699866\n",
      " 20.11497318 16.01902414 20.18779005 25.33958374 21.03428619 28.82569148\n",
      " 27.16910764 20.21509638]\n"
     ]
    }
   ],
   "source": [
    "# Imprime as previsões\n",
    "print (modelo_v2.predict(X))"
   ]
  },
  {
   "cell_type": "code",
   "execution_count": 45,
   "metadata": {},
   "outputs": [
    {
     "name": "stdout",
     "output_type": "stream",
     "text": [
      "Se RM = 5 nosso modelo prevê que a mediana da taxa de ocupação é 10.8\n"
     ]
    }
   ],
   "source": [
    "# Fazendo previsões com o modelo treinado\n",
    "RM = 5\n",
    "# Xp = np.array(RM)\n",
    "Xp = np.array(RM).reshape(-1, 1)\n",
    "print (\"Se RM = %01.f nosso modelo prevê que a mediana da taxa de ocupação é %0.1f\" % (RM, modelo_v2.predict(Xp)))"
   ]
  },
  {
   "cell_type": "code",
   "execution_count": null,
   "metadata": {},
   "outputs": [],
   "source": []
  },
  {
   "cell_type": "markdown",
   "metadata": {},
   "source": [
    "### Bonus - Comparando tempos de execução dos modelos.\n",
    "### Comparação StatsModels x ScikitLearn"
   ]
  },
  {
   "cell_type": "code",
   "execution_count": 46,
   "metadata": {},
   "outputs": [],
   "source": [
    "from sklearn.datasets import make_regression\n",
    "HX, Hy = make_regression(n_samples = 100000000, n_features = 1, n_targets = 1, random_state = 101)"
   ]
  },
  {
   "cell_type": "code",
   "execution_count": 47,
   "metadata": {},
   "outputs": [
    {
     "name": "stdout",
     "output_type": "stream",
     "text": [
      "CPU times: total: 6.5 s\n",
      "Wall time: 5.85 s\n"
     ]
    },
    {
     "data": {
      "text/html": [
       "<style>#sk-container-id-3 {color: black;background-color: white;}#sk-container-id-3 pre{padding: 0;}#sk-container-id-3 div.sk-toggleable {background-color: white;}#sk-container-id-3 label.sk-toggleable__label {cursor: pointer;display: block;width: 100%;margin-bottom: 0;padding: 0.3em;box-sizing: border-box;text-align: center;}#sk-container-id-3 label.sk-toggleable__label-arrow:before {content: \"▸\";float: left;margin-right: 0.25em;color: #696969;}#sk-container-id-3 label.sk-toggleable__label-arrow:hover:before {color: black;}#sk-container-id-3 div.sk-estimator:hover label.sk-toggleable__label-arrow:before {color: black;}#sk-container-id-3 div.sk-toggleable__content {max-height: 0;max-width: 0;overflow: hidden;text-align: left;background-color: #f0f8ff;}#sk-container-id-3 div.sk-toggleable__content pre {margin: 0.2em;color: black;border-radius: 0.25em;background-color: #f0f8ff;}#sk-container-id-3 input.sk-toggleable__control:checked~div.sk-toggleable__content {max-height: 200px;max-width: 100%;overflow: auto;}#sk-container-id-3 input.sk-toggleable__control:checked~label.sk-toggleable__label-arrow:before {content: \"▾\";}#sk-container-id-3 div.sk-estimator input.sk-toggleable__control:checked~label.sk-toggleable__label {background-color: #d4ebff;}#sk-container-id-3 div.sk-label input.sk-toggleable__control:checked~label.sk-toggleable__label {background-color: #d4ebff;}#sk-container-id-3 input.sk-hidden--visually {border: 0;clip: rect(1px 1px 1px 1px);clip: rect(1px, 1px, 1px, 1px);height: 1px;margin: -1px;overflow: hidden;padding: 0;position: absolute;width: 1px;}#sk-container-id-3 div.sk-estimator {font-family: monospace;background-color: #f0f8ff;border: 1px dotted black;border-radius: 0.25em;box-sizing: border-box;margin-bottom: 0.5em;}#sk-container-id-3 div.sk-estimator:hover {background-color: #d4ebff;}#sk-container-id-3 div.sk-parallel-item::after {content: \"\";width: 100%;border-bottom: 1px solid gray;flex-grow: 1;}#sk-container-id-3 div.sk-label:hover label.sk-toggleable__label {background-color: #d4ebff;}#sk-container-id-3 div.sk-serial::before {content: \"\";position: absolute;border-left: 1px solid gray;box-sizing: border-box;top: 0;bottom: 0;left: 50%;z-index: 0;}#sk-container-id-3 div.sk-serial {display: flex;flex-direction: column;align-items: center;background-color: white;padding-right: 0.2em;padding-left: 0.2em;position: relative;}#sk-container-id-3 div.sk-item {position: relative;z-index: 1;}#sk-container-id-3 div.sk-parallel {display: flex;align-items: stretch;justify-content: center;background-color: white;position: relative;}#sk-container-id-3 div.sk-item::before, #sk-container-id-3 div.sk-parallel-item::before {content: \"\";position: absolute;border-left: 1px solid gray;box-sizing: border-box;top: 0;bottom: 0;left: 50%;z-index: -1;}#sk-container-id-3 div.sk-parallel-item {display: flex;flex-direction: column;z-index: 1;position: relative;background-color: white;}#sk-container-id-3 div.sk-parallel-item:first-child::after {align-self: flex-end;width: 50%;}#sk-container-id-3 div.sk-parallel-item:last-child::after {align-self: flex-start;width: 50%;}#sk-container-id-3 div.sk-parallel-item:only-child::after {width: 0;}#sk-container-id-3 div.sk-dashed-wrapped {border: 1px dashed gray;margin: 0 0.4em 0.5em 0.4em;box-sizing: border-box;padding-bottom: 0.4em;background-color: white;}#sk-container-id-3 div.sk-label label {font-family: monospace;font-weight: bold;display: inline-block;line-height: 1.2em;}#sk-container-id-3 div.sk-label-container {text-align: center;}#sk-container-id-3 div.sk-container {/* jupyter's `normalize.less` sets `[hidden] { display: none; }` but bootstrap.min.css set `[hidden] { display: none !important; }` so we also need the `!important` here to be able to override the default hidden behavior on the sphinx rendered scikit-learn.org. See: https://github.com/scikit-learn/scikit-learn/issues/21755 */display: inline-block !important;position: relative;}#sk-container-id-3 div.sk-text-repr-fallback {display: none;}</style><div id=\"sk-container-id-3\" class=\"sk-top-container\"><div class=\"sk-text-repr-fallback\"><pre>LinearRegression(normalize=False)</pre><b>In a Jupyter environment, please rerun this cell to show the HTML representation or trust the notebook. <br />On GitHub, the HTML representation is unable to render, please try loading this page with nbviewer.org.</b></div><div class=\"sk-container\" hidden><div class=\"sk-item\"><div class=\"sk-estimator sk-toggleable\"><input class=\"sk-toggleable__control sk-hidden--visually\" id=\"sk-estimator-id-3\" type=\"checkbox\" checked><label for=\"sk-estimator-id-3\" class=\"sk-toggleable__label sk-toggleable__label-arrow\">LinearRegression</label><div class=\"sk-toggleable__content\"><pre>LinearRegression(normalize=False)</pre></div></div></div></div></div>"
      ],
      "text/plain": [
       "LinearRegression(normalize=False)"
      ]
     },
     "execution_count": 47,
     "metadata": {},
     "output_type": "execute_result"
    }
   ],
   "source": [
    "%%time\n",
    "sk_linear_regression = linear_model.LinearRegression(normalize=False, fit_intercept=True)\n",
    "sk_linear_regression.fit(HX,Hy)"
   ]
  },
  {
   "cell_type": "code",
   "execution_count": 48,
   "metadata": {},
   "outputs": [
    {
     "name": "stdout",
     "output_type": "stream",
     "text": [
      "CPU times: total: 18.7 s\n",
      "Wall time: 11.2 s\n"
     ]
    },
    {
     "data": {
      "text/plain": [
       "<statsmodels.regression.linear_model.RegressionResultsWrapper at 0x1fe4dc29790>"
      ]
     },
     "execution_count": 48,
     "metadata": {},
     "output_type": "execute_result"
    }
   ],
   "source": [
    "%%time\n",
    "sm_linear_regression = sm.OLS(Hy, sm.add_constant(HX))\n",
    "sm_linear_regression.fit()"
   ]
  },
  {
   "cell_type": "code",
   "execution_count": null,
   "metadata": {},
   "outputs": [],
   "source": []
  }
 ],
 "metadata": {
  "anaconda-cloud": {},
  "kernelspec": {
   "display_name": "Python 3 (ipykernel)",
   "language": "python",
   "name": "python3"
  },
  "language_info": {
   "codemirror_mode": {
    "name": "ipython",
    "version": 3
   },
   "file_extension": ".py",
   "mimetype": "text/x-python",
   "name": "python",
   "nbconvert_exporter": "python",
   "pygments_lexer": "ipython3",
   "version": "3.9.12"
  }
 },
 "nbformat": 4,
 "nbformat_minor": 1
}
